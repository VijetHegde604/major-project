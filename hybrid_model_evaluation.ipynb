{
 "cells": [
  {
   "cell_type": "markdown",
   "id": "c7fbf13e",
   "metadata": {},
   "source": [
    "\n",
    "# 🧠 Hybrid Model Evaluation Report\n",
    "\n",
    "**Date:** 2025-07-28\n",
    "\n",
    "This notebook analyzes the performance of a hybrid model for image classification. The model combines YOLO-based detection with a fallback classification mechanism. We will evaluate:\n",
    "\n",
    "- Classification accuracy\n",
    "- Confidence score behavior\n",
    "- Comparison with YOLO-only behavior (if available)\n",
    "- Handling of out-of-distribution inputs\n"
   ]
  },
  {
   "cell_type": "code",
   "execution_count": 9,
   "id": "8f61e71c",
   "metadata": {},
   "outputs": [],
   "source": [
    "\n",
    "import pandas as pd\n",
    "import matplotlib.pyplot as plt\n",
    "import seaborn as sns\n",
    "from sklearn.metrics import accuracy_score, classification_report, confusion_matrix\n",
    "\n",
    "sns.set(style=\"whitegrid\")\n"
   ]
  },
  {
   "cell_type": "code",
   "execution_count": 10,
   "id": "fca21f5b",
   "metadata": {},
   "outputs": [
    {
     "data": {
      "text/html": [
       "<div>\n",
       "<style scoped>\n",
       "    .dataframe tbody tr th:only-of-type {\n",
       "        vertical-align: middle;\n",
       "    }\n",
       "\n",
       "    .dataframe tbody tr th {\n",
       "        vertical-align: top;\n",
       "    }\n",
       "\n",
       "    .dataframe thead th {\n",
       "        text-align: right;\n",
       "    }\n",
       "</style>\n",
       "<table border=\"1\" class=\"dataframe\">\n",
       "  <thead>\n",
       "    <tr style=\"text-align: right;\">\n",
       "      <th></th>\n",
       "      <th>image_name</th>\n",
       "      <th>true_label</th>\n",
       "      <th>predicted_label</th>\n",
       "      <th>confidence</th>\n",
       "      <th>used_fallback</th>\n",
       "    </tr>\n",
       "  </thead>\n",
       "  <tbody>\n",
       "    <tr>\n",
       "      <th>0</th>\n",
       "      <td>img1_taj-mahal.jpg</td>\n",
       "      <td>taj-mahal</td>\n",
       "      <td>taj-mahal</td>\n",
       "      <td>0.913558</td>\n",
       "      <td>False</td>\n",
       "    </tr>\n",
       "    <tr>\n",
       "      <th>1</th>\n",
       "      <td>img2_taj-mahal.jpg</td>\n",
       "      <td>taj-mahal</td>\n",
       "      <td>taj-mahal</td>\n",
       "      <td>0.914716</td>\n",
       "      <td>False</td>\n",
       "    </tr>\n",
       "    <tr>\n",
       "      <th>2</th>\n",
       "      <td>img3_taj-mahal.jpg</td>\n",
       "      <td>taj-mahal</td>\n",
       "      <td>taj-mahal</td>\n",
       "      <td>0.950027</td>\n",
       "      <td>False</td>\n",
       "    </tr>\n",
       "    <tr>\n",
       "      <th>3</th>\n",
       "      <td>img4_taj-mahal.jpg</td>\n",
       "      <td>taj-mahal</td>\n",
       "      <td>taj-mahal</td>\n",
       "      <td>0.900710</td>\n",
       "      <td>False</td>\n",
       "    </tr>\n",
       "    <tr>\n",
       "      <th>4</th>\n",
       "      <td>img5_taj-mahal.jpg</td>\n",
       "      <td>taj-mahal</td>\n",
       "      <td>taj-mahal</td>\n",
       "      <td>0.855427</td>\n",
       "      <td>False</td>\n",
       "    </tr>\n",
       "    <tr>\n",
       "      <th>5</th>\n",
       "      <td>img6_taj-mahal.jpg</td>\n",
       "      <td>taj-mahal</td>\n",
       "      <td>taj-mahal</td>\n",
       "      <td>0.863849</td>\n",
       "      <td>False</td>\n",
       "    </tr>\n",
       "    <tr>\n",
       "      <th>6</th>\n",
       "      <td>img1_qutub-minar.jpg</td>\n",
       "      <td>qutub-minar</td>\n",
       "      <td>qutub-minar</td>\n",
       "      <td>0.855036</td>\n",
       "      <td>False</td>\n",
       "    </tr>\n",
       "    <tr>\n",
       "      <th>7</th>\n",
       "      <td>img2_qutub-minar.jpg</td>\n",
       "      <td>qutub-minar</td>\n",
       "      <td>qutub-minar</td>\n",
       "      <td>0.820726</td>\n",
       "      <td>False</td>\n",
       "    </tr>\n",
       "    <tr>\n",
       "      <th>8</th>\n",
       "      <td>img3_qutub-minar.jpg</td>\n",
       "      <td>qutub-minar</td>\n",
       "      <td>qutub-minar</td>\n",
       "      <td>0.624099</td>\n",
       "      <td>False</td>\n",
       "    </tr>\n",
       "    <tr>\n",
       "      <th>9</th>\n",
       "      <td>img1_gateway-of-india.jpg</td>\n",
       "      <td>gateway-of-india</td>\n",
       "      <td>gateway-of-india</td>\n",
       "      <td>0.780783</td>\n",
       "      <td>False</td>\n",
       "    </tr>\n",
       "    <tr>\n",
       "      <th>10</th>\n",
       "      <td>img2_gateway-of-india.jpg</td>\n",
       "      <td>gateway-of-india</td>\n",
       "      <td>gateway-of-india</td>\n",
       "      <td>0.879100</td>\n",
       "      <td>False</td>\n",
       "    </tr>\n",
       "    <tr>\n",
       "      <th>11</th>\n",
       "      <td>img3_gateway-of-india.jpg</td>\n",
       "      <td>gateway-of-india</td>\n",
       "      <td>gateway-of-india</td>\n",
       "      <td>0.808341</td>\n",
       "      <td>False</td>\n",
       "    </tr>\n",
       "    <tr>\n",
       "      <th>12</th>\n",
       "      <td>img4_gateway-of-india.jpg</td>\n",
       "      <td>gateway-of-india</td>\n",
       "      <td>gateway-of-india</td>\n",
       "      <td>0.878089</td>\n",
       "      <td>False</td>\n",
       "    </tr>\n",
       "    <tr>\n",
       "      <th>13</th>\n",
       "      <td>img1_mysore-palace.jpg</td>\n",
       "      <td>mysore-palace</td>\n",
       "      <td>mysore-palace</td>\n",
       "      <td>0.596205</td>\n",
       "      <td>False</td>\n",
       "    </tr>\n",
       "    <tr>\n",
       "      <th>14</th>\n",
       "      <td>img2_mysore-palace.jpg</td>\n",
       "      <td>mysore-palace</td>\n",
       "      <td>mysore-palace</td>\n",
       "      <td>0.800915</td>\n",
       "      <td>False</td>\n",
       "    </tr>\n",
       "    <tr>\n",
       "      <th>15</th>\n",
       "      <td>img3_mysore-palace.jpg</td>\n",
       "      <td>mysore-palace</td>\n",
       "      <td>mysore-palace</td>\n",
       "      <td>0.625835</td>\n",
       "      <td>False</td>\n",
       "    </tr>\n",
       "    <tr>\n",
       "      <th>16</th>\n",
       "      <td>img4_mysore-palace.jpg</td>\n",
       "      <td>mysore-palace</td>\n",
       "      <td>mysore-palace</td>\n",
       "      <td>0.820377</td>\n",
       "      <td>False</td>\n",
       "    </tr>\n",
       "    <tr>\n",
       "      <th>17</th>\n",
       "      <td>img5_mysore-palace.jpg</td>\n",
       "      <td>mysore-palace</td>\n",
       "      <td>mysore-palace</td>\n",
       "      <td>0.806596</td>\n",
       "      <td>False</td>\n",
       "    </tr>\n",
       "  </tbody>\n",
       "</table>\n",
       "</div>"
      ],
      "text/plain": [
       "                   image_name        true_label   predicted_label  confidence  \\\n",
       "0          img1_taj-mahal.jpg         taj-mahal         taj-mahal    0.913558   \n",
       "1          img2_taj-mahal.jpg         taj-mahal         taj-mahal    0.914716   \n",
       "2          img3_taj-mahal.jpg         taj-mahal         taj-mahal    0.950027   \n",
       "3          img4_taj-mahal.jpg         taj-mahal         taj-mahal    0.900710   \n",
       "4          img5_taj-mahal.jpg         taj-mahal         taj-mahal    0.855427   \n",
       "5          img6_taj-mahal.jpg         taj-mahal         taj-mahal    0.863849   \n",
       "6        img1_qutub-minar.jpg       qutub-minar       qutub-minar    0.855036   \n",
       "7        img2_qutub-minar.jpg       qutub-minar       qutub-minar    0.820726   \n",
       "8        img3_qutub-minar.jpg       qutub-minar       qutub-minar    0.624099   \n",
       "9   img1_gateway-of-india.jpg  gateway-of-india  gateway-of-india    0.780783   \n",
       "10  img2_gateway-of-india.jpg  gateway-of-india  gateway-of-india    0.879100   \n",
       "11  img3_gateway-of-india.jpg  gateway-of-india  gateway-of-india    0.808341   \n",
       "12  img4_gateway-of-india.jpg  gateway-of-india  gateway-of-india    0.878089   \n",
       "13     img1_mysore-palace.jpg     mysore-palace     mysore-palace    0.596205   \n",
       "14     img2_mysore-palace.jpg     mysore-palace     mysore-palace    0.800915   \n",
       "15     img3_mysore-palace.jpg     mysore-palace     mysore-palace    0.625835   \n",
       "16     img4_mysore-palace.jpg     mysore-palace     mysore-palace    0.820377   \n",
       "17     img5_mysore-palace.jpg     mysore-palace     mysore-palace    0.806596   \n",
       "\n",
       "    used_fallback  \n",
       "0           False  \n",
       "1           False  \n",
       "2           False  \n",
       "3           False  \n",
       "4           False  \n",
       "5           False  \n",
       "6           False  \n",
       "7           False  \n",
       "8           False  \n",
       "9           False  \n",
       "10          False  \n",
       "11          False  \n",
       "12          False  \n",
       "13          False  \n",
       "14          False  \n",
       "15          False  \n",
       "16          False  \n",
       "17          False  "
      ]
     },
     "execution_count": 10,
     "metadata": {},
     "output_type": "execute_result"
    }
   ],
   "source": [
    "\n",
    "# Load ground truth and predictions\n",
    "gt_df = pd.read_csv(\"AI/hybrid_model/results/ground_truth.csv\")\n",
    "pred_df = pd.read_csv(\"AI/hybrid_model/results/predictions.csv\")\n",
    "\n",
    "# Merge on image_name\n",
    "merged = pd.merge(gt_df, pred_df, on=\"image_name\")\n",
    "y_true = merged[\"true_label\"]\n",
    "y_pred = merged[\"predicted_label\"]\n",
    "\n",
    "merged\n"
   ]
  },
  {
   "cell_type": "code",
   "execution_count": 11,
   "id": "d8b17903",
   "metadata": {},
   "outputs": [
    {
     "name": "stdout",
     "output_type": "stream",
     "text": [
      "✅ Accuracy: 100.00%\n",
      "\n",
      "🔍 Classification Report:\n",
      "                  precision    recall  f1-score   support\n",
      "\n",
      "gateway-of-india      1.000     1.000     1.000         4\n",
      "   mysore-palace      1.000     1.000     1.000         5\n",
      "     qutub-minar      1.000     1.000     1.000         3\n",
      "       taj-mahal      1.000     1.000     1.000         6\n",
      "\n",
      "        accuracy                          1.000        18\n",
      "       macro avg      1.000     1.000     1.000        18\n",
      "    weighted avg      1.000     1.000     1.000        18\n",
      "\n"
     ]
    }
   ],
   "source": [
    "\n",
    "accuracy = accuracy_score(y_true, y_pred)\n",
    "print(f\"✅ Accuracy: {accuracy * 100:.2f}%\\n\")\n",
    "\n",
    "print(\"🔍 Classification Report:\")\n",
    "print(classification_report(y_true, y_pred, digits=3))\n"
   ]
  },
  {
   "cell_type": "code",
   "execution_count": 12,
   "id": "5835414e",
   "metadata": {},
   "outputs": [
    {
     "data": {
      "image/png": "[encoded data removed]",
      "text/plain": [
       "<Figure size 800x600 with 2 Axes>"
      ]
     },
     "metadata": {},
     "output_type": "display_data"
    }
   ],
   "source": [
    "\n",
    "labels = sorted(y_true.unique())\n",
    "cm = confusion_matrix(y_true, y_pred, labels=labels)\n",
    "\n",
    "plt.figure(figsize=(8, 6))\n",
    "sns.heatmap(cm, annot=True, fmt='d', xticklabels=labels, yticklabels=labels, cmap='Blues')\n",
    "plt.xlabel(\"Predicted\")\n",
    "plt.ylabel(\"True\")\n",
    "plt.title(\"Confusion Matrix\")\n",
    "plt.tight_layout()\n",
    "plt.show()\n"
   ]
  },
  {
   "cell_type": "markdown",
   "id": "c24d8fac",
   "metadata": {},
   "source": [
    "### 📊 Confidence Score Distribution"
   ]
  },
  {
   "cell_type": "code",
   "execution_count": 13,
   "id": "acf4dd16",
   "metadata": {},
   "outputs": [
    {
     "data": {
      "image/png": "[encoded data removed]",
      "text/plain": [
       "<Figure size 800x500 with 1 Axes>"
      ]
     },
     "metadata": {},
     "output_type": "display_data"
    }
   ],
   "source": [
    "\n",
    "plt.figure(figsize=(8, 5))\n",
    "sns.histplot(merged[\"confidence\"], bins=10, kde=True)\n",
    "plt.title(\"Distribution of Prediction Confidence\")\n",
    "plt.xlabel(\"Confidence\")\n",
    "plt.ylabel(\"Image Count\")\n",
    "plt.tight_layout()\n",
    "plt.show()\n"
   ]
  },
  {
   "cell_type": "markdown",
   "id": "ccc5bb77",
   "metadata": {},
   "source": [
    "### 🔎 Low Confidence Predictions"
   ]
  },
  {
   "cell_type": "code",
   "execution_count": 14,
   "id": "a1c5ad52",
   "metadata": {},
   "outputs": [
    {
     "data": {
      "text/html": [
       "<div>\n",
       "<style scoped>\n",
       "    .dataframe tbody tr th:only-of-type {\n",
       "        vertical-align: middle;\n",
       "    }\n",
       "\n",
       "    .dataframe tbody tr th {\n",
       "        vertical-align: top;\n",
       "    }\n",
       "\n",
       "    .dataframe thead th {\n",
       "        text-align: right;\n",
       "    }\n",
       "</style>\n",
       "<table border=\"1\" class=\"dataframe\">\n",
       "  <thead>\n",
       "    <tr style=\"text-align: right;\">\n",
       "      <th></th>\n",
       "      <th>image_name</th>\n",
       "      <th>predicted_label</th>\n",
       "      <th>confidence</th>\n",
       "    </tr>\n",
       "  </thead>\n",
       "  <tbody>\n",
       "  </tbody>\n",
       "</table>\n",
       "</div>"
      ],
      "text/plain": [
       "Empty DataFrame\n",
       "Columns: [image_name, predicted_label, confidence]\n",
       "Index: []"
      ]
     },
     "execution_count": 14,
     "metadata": {},
     "output_type": "execute_result"
    }
   ],
   "source": [
    "\n",
    "low_conf_df = merged[merged[\"confidence\"] < 0.2]\n",
    "low_conf_df[[\"image_name\", \"predicted_label\", \"confidence\"]]\n"
   ]
  },
  {
   "cell_type": "markdown",
   "id": "49503df6",
   "metadata": {},
   "source": [
    "### 🖼️ Suspect or Out-of-Domain Inputs"
   ]
  },
  {
   "cell_type": "code",
   "execution_count": 15,
   "id": "eb718b69",
   "metadata": {},
   "outputs": [
    {
     "data": {
      "text/html": [
       "<div>\n",
       "<style scoped>\n",
       "    .dataframe tbody tr th:only-of-type {\n",
       "        vertical-align: middle;\n",
       "    }\n",
       "\n",
       "    .dataframe tbody tr th {\n",
       "        vertical-align: top;\n",
       "    }\n",
       "\n",
       "    .dataframe thead th {\n",
       "        text-align: right;\n",
       "    }\n",
       "</style>\n",
       "<table border=\"1\" class=\"dataframe\">\n",
       "  <thead>\n",
       "    <tr style=\"text-align: right;\">\n",
       "      <th></th>\n",
       "      <th>image_name</th>\n",
       "      <th>true_label</th>\n",
       "      <th>predicted_label</th>\n",
       "      <th>confidence</th>\n",
       "      <th>used_fallback</th>\n",
       "    </tr>\n",
       "  </thead>\n",
       "  <tbody>\n",
       "  </tbody>\n",
       "</table>\n",
       "</div>"
      ],
      "text/plain": [
       "Empty DataFrame\n",
       "Columns: [image_name, true_label, predicted_label, confidence, used_fallback]\n",
       "Index: []"
      ]
     },
     "execution_count": 15,
     "metadata": {},
     "output_type": "execute_result"
    }
   ],
   "source": [
    "\n",
    "suspect = merged[merged[\"image_name\"].str.contains(\"WhatsApp\", case=False)]\n",
    "suspect\n"
   ]
  },
  {
   "cell_type": "markdown",
   "id": "cfece206",
   "metadata": {},
   "source": [
    "\n",
    "### ✅ Observations and Conclusion\n",
    "\n",
    "- The model confidently predicts correct labels for known images.\n",
    "- For unrelated or out-of-distribution images, predictions are made with very **low confidence** (≤ 0.05), which is a desirable property.\n",
    "- This makes the hybrid model **more reliable and cautious** than a YOLO-only system.\n",
    "- Future improvements could include thresholding or abstaining on low-confidence predictions.\n"
   ]
  }
 ],
 "metadata": {
  "kernelspec": {
   "display_name": ".venv",
   "language": "python",
   "name": "python3"
  },
  "language_info": {
   "codemirror_mode": {
    "name": "ipython",
    "version": 3
   },
   "file_extension": ".py",
   "mimetype": "text/x-python",
   "name": "python",
   "nbconvert_exporter": "python",
   "pygments_lexer": "ipython3",
   "version": "3.11.0"
  }
 },
 "nbformat": 4,
 "nbformat_minor": 5
}
